{
 "cells": [
  {
   "cell_type": "code",
   "execution_count": 1,
   "id": "5e87c9cf",
   "metadata": {},
   "outputs": [],
   "source": [
    "import pandas as pd\n",
    "from sklearn.ensemble import RandomForestClassifier\n",
    "from sklearn.svm import SVC\n",
    "from sklearn import svm\n",
    "from sklearn.neural_network import MLPClassifier\n",
    "from sklearn.metrics import confusion_matrix, classification_report\n",
    "from sklearn.preprocessing import StandardScaler, LabelEncoder\n",
    "from sklearn.model_selection import train_test_split\n",
    "from sklearn.metrics import accuracy_score\n",
    "from sklearn.feature_extraction.text import CountVectorizer"
   ]
  },
  {
   "cell_type": "code",
   "execution_count": 2,
   "id": "56f6da97",
   "metadata": {},
   "outputs": [
    {
     "data": {
      "text/html": [
       "<div>\n",
       "<style scoped>\n",
       "    .dataframe tbody tr th:only-of-type {\n",
       "        vertical-align: middle;\n",
       "    }\n",
       "\n",
       "    .dataframe tbody tr th {\n",
       "        vertical-align: top;\n",
       "    }\n",
       "\n",
       "    .dataframe thead th {\n",
       "        text-align: right;\n",
       "    }\n",
       "</style>\n",
       "<table border=\"1\" class=\"dataframe\">\n",
       "  <thead>\n",
       "    <tr style=\"text-align: right;\">\n",
       "      <th></th>\n",
       "      <th>Label</th>\n",
       "      <th>EmailText</th>\n",
       "    </tr>\n",
       "  </thead>\n",
       "  <tbody>\n",
       "    <tr>\n",
       "      <th>0</th>\n",
       "      <td>ham</td>\n",
       "      <td>Go until jurong point, crazy.. Available only ...</td>\n",
       "    </tr>\n",
       "    <tr>\n",
       "      <th>1</th>\n",
       "      <td>ham</td>\n",
       "      <td>Ok lar... Joking wif u oni...</td>\n",
       "    </tr>\n",
       "    <tr>\n",
       "      <th>2</th>\n",
       "      <td>spam</td>\n",
       "      <td>Free entry in 2 a wkly comp to win FA Cup fina...</td>\n",
       "    </tr>\n",
       "    <tr>\n",
       "      <th>3</th>\n",
       "      <td>ham</td>\n",
       "      <td>U dun say so early hor... U c already then say...</td>\n",
       "    </tr>\n",
       "    <tr>\n",
       "      <th>4</th>\n",
       "      <td>ham</td>\n",
       "      <td>Nah I don't think he goes to usf, he lives aro...</td>\n",
       "    </tr>\n",
       "  </tbody>\n",
       "</table>\n",
       "</div>"
      ],
      "text/plain": [
       "  Label                                          EmailText\n",
       "0   ham  Go until jurong point, crazy.. Available only ...\n",
       "1   ham                      Ok lar... Joking wif u oni...\n",
       "2  spam  Free entry in 2 a wkly comp to win FA Cup fina...\n",
       "3   ham  U dun say so early hor... U c already then say...\n",
       "4   ham  Nah I don't think he goes to usf, he lives aro..."
      ]
     },
     "execution_count": 2,
     "metadata": {},
     "output_type": "execute_result"
    }
   ],
   "source": [
    "df=pd.read_csv(\"C:\\\\Users\\\\ankit\\\\Documents\\\\Project Files\\\\Spam email.csv\")\n",
    "df.head()"
   ]
  },
  {
   "cell_type": "code",
   "execution_count": 3,
   "id": "301d60ad",
   "metadata": {},
   "outputs": [],
   "source": [
    "labe=LabelEncoder()                                      # spam = 1\n",
    "df['Label']=labe.fit_transform(df['Label'])              # Ham = 0\n"
   ]
  },
  {
   "cell_type": "code",
   "execution_count": 4,
   "id": "be38109c",
   "metadata": {},
   "outputs": [
    {
     "data": {
      "text/html": [
       "<div>\n",
       "<style scoped>\n",
       "    .dataframe tbody tr th:only-of-type {\n",
       "        vertical-align: middle;\n",
       "    }\n",
       "\n",
       "    .dataframe tbody tr th {\n",
       "        vertical-align: top;\n",
       "    }\n",
       "\n",
       "    .dataframe thead th {\n",
       "        text-align: right;\n",
       "    }\n",
       "</style>\n",
       "<table border=\"1\" class=\"dataframe\">\n",
       "  <thead>\n",
       "    <tr style=\"text-align: right;\">\n",
       "      <th></th>\n",
       "      <th>Label</th>\n",
       "      <th>EmailText</th>\n",
       "    </tr>\n",
       "  </thead>\n",
       "  <tbody>\n",
       "    <tr>\n",
       "      <th>0</th>\n",
       "      <td>0</td>\n",
       "      <td>Go until jurong point, crazy.. Available only ...</td>\n",
       "    </tr>\n",
       "    <tr>\n",
       "      <th>1</th>\n",
       "      <td>0</td>\n",
       "      <td>Ok lar... Joking wif u oni...</td>\n",
       "    </tr>\n",
       "    <tr>\n",
       "      <th>2</th>\n",
       "      <td>1</td>\n",
       "      <td>Free entry in 2 a wkly comp to win FA Cup fina...</td>\n",
       "    </tr>\n",
       "    <tr>\n",
       "      <th>3</th>\n",
       "      <td>0</td>\n",
       "      <td>U dun say so early hor... U c already then say...</td>\n",
       "    </tr>\n",
       "    <tr>\n",
       "      <th>4</th>\n",
       "      <td>0</td>\n",
       "      <td>Nah I don't think he goes to usf, he lives aro...</td>\n",
       "    </tr>\n",
       "  </tbody>\n",
       "</table>\n",
       "</div>"
      ],
      "text/plain": [
       "   Label                                          EmailText\n",
       "0      0  Go until jurong point, crazy.. Available only ...\n",
       "1      0                      Ok lar... Joking wif u oni...\n",
       "2      1  Free entry in 2 a wkly comp to win FA Cup fina...\n",
       "3      0  U dun say so early hor... U c already then say...\n",
       "4      0  Nah I don't think he goes to usf, he lives aro..."
      ]
     },
     "execution_count": 4,
     "metadata": {},
     "output_type": "execute_result"
    }
   ],
   "source": [
    "df.head()"
   ]
  },
  {
   "cell_type": "code",
   "execution_count": 5,
   "id": "5cb79f61",
   "metadata": {},
   "outputs": [
    {
     "name": "stdout",
     "output_type": "stream",
     "text": [
      "0       Go until jurong point, crazy.. Available only ...\n",
      "1                           Ok lar... Joking wif u oni...\n",
      "2       Free entry in 2 a wkly comp to win FA Cup fina...\n",
      "3       U dun say so early hor... U c already then say...\n",
      "4       Nah I don't think he goes to usf, he lives aro...\n",
      "                              ...                        \n",
      "5567    This is the 2nd time we have tried 2 contact u...\n",
      "5568               Will Ã_ b going to esplanade fr home?\n",
      "5569    Pity, * was in mood for that. So...any other s...\n",
      "5570    The guy did some bitching but I acted like i'd...\n",
      "5571                           Rofl. Its true to its name\n",
      "Name: EmailText, Length: 5572, dtype: object 0       0\n",
      "1       0\n",
      "2       1\n",
      "3       0\n",
      "4       0\n",
      "       ..\n",
      "5567    1\n",
      "5568    0\n",
      "5569    0\n",
      "5570    0\n",
      "5571    0\n",
      "Name: Label, Length: 5572, dtype: int32\n"
     ]
    }
   ],
   "source": [
    "X=df['EmailText'] \n",
    "y=df['Label']\n",
    "print(X,y)"
   ]
  },
  {
   "cell_type": "code",
   "execution_count": 6,
   "id": "5f65f9b4",
   "metadata": {},
   "outputs": [],
   "source": [
    "# train and test splitting of data\n",
    "X_train,y_train=X[:2000],y[:2000]\n",
    "X_test,y_test=X[2000:],y[2000:]"
   ]
  },
  {
   "cell_type": "code",
   "execution_count": 7,
   "id": "b5ae47c2",
   "metadata": {},
   "outputs": [],
   "source": [
    "cv=CountVectorizer()    # it used to converting string data inta float data for further preduction\n",
    "X_train=cv.fit_transform(X_train)\n",
    "X_test=cv.transform(X_test)"
   ]
  },
  {
   "cell_type": "code",
   "execution_count": 8,
   "id": "8f2284fb",
   "metadata": {},
   "outputs": [
    {
     "data": {
      "text/plain": [
       "<5x4973 sparse matrix of type '<class 'numpy.int64'>'\n",
       "\twith 64 stored elements in Compressed Sparse Row format>"
      ]
     },
     "execution_count": 8,
     "metadata": {},
     "output_type": "execute_result"
    }
   ],
   "source": [
    "X_train[:5]"
   ]
  },
  {
   "cell_type": "code",
   "execution_count": 9,
   "id": "3d628614",
   "metadata": {},
   "outputs": [],
   "source": [
    "rfc=RandomForestClassifier(n_estimators=200)\n",
    "rfc.fit(X_train,y_train)\n",
    "predict_rfc=rfc.predict(X_test)"
   ]
  },
  {
   "cell_type": "code",
   "execution_count": 10,
   "id": "d8edee3a",
   "metadata": {},
   "outputs": [
    {
     "name": "stdout",
     "output_type": "stream",
     "text": [
      "              precision    recall  f1-score   support\n",
      "\n",
      "           0       0.96      1.00      0.98      3105\n",
      "           1       0.99      0.74      0.85       467\n",
      "\n",
      "    accuracy                           0.96      3572\n",
      "   macro avg       0.98      0.87      0.91      3572\n",
      "weighted avg       0.97      0.96      0.96      3572\n",
      "\n",
      "[[3101    4]\n",
      " [ 122  345]]\n"
     ]
    }
   ],
   "source": [
    "print(classification_report(y_test,predict_rfc))\n",
    "print(confusion_matrix(y_test,predict_rfc))"
   ]
  },
  {
   "cell_type": "code",
   "execution_count": 11,
   "id": "751651e4",
   "metadata": {},
   "outputs": [],
   "source": [
    "model=svm.SVC()\n",
    "model.fit(X_train,y_train)\n",
    "predic_svm =model.predict(X_test)"
   ]
  },
  {
   "cell_type": "code",
   "execution_count": 12,
   "id": "a169ec1d",
   "metadata": {},
   "outputs": [
    {
     "name": "stdout",
     "output_type": "stream",
     "text": [
      "              precision    recall  f1-score   support\n",
      "\n",
      "           0       0.97      1.00      0.99      3105\n",
      "           1       0.99      0.82      0.90       467\n",
      "\n",
      "    accuracy                           0.98      3572\n",
      "   macro avg       0.98      0.91      0.94      3572\n",
      "weighted avg       0.98      0.98      0.97      3572\n",
      "\n",
      "[[3101    4]\n",
      " [  84  383]]\n"
     ]
    }
   ],
   "source": [
    "print(classification_report(y_test,predic_svm))\n",
    "print(confusion_matrix(y_test,predic_svm))"
   ]
  },
  {
   "cell_type": "code",
   "execution_count": 13,
   "id": "b26e93c4",
   "metadata": {},
   "outputs": [],
   "source": [
    "mlpc=MLPClassifier(hidden_layer_sizes=(8,8,8),max_iter=400)\n",
    "mlpc.fit(X_train,y_train)\n",
    "predic_mlpc = mlpc.predict(X_test)"
   ]
  },
  {
   "cell_type": "code",
   "execution_count": 14,
   "id": "9342801d",
   "metadata": {},
   "outputs": [
    {
     "name": "stdout",
     "output_type": "stream",
     "text": [
      "              precision    recall  f1-score   support\n",
      "\n",
      "           0       0.96      1.00      0.98      3105\n",
      "           1       0.98      0.73      0.84       467\n",
      "\n",
      "    accuracy                           0.96      3572\n",
      "   macro avg       0.97      0.87      0.91      3572\n",
      "weighted avg       0.96      0.96      0.96      3572\n",
      "\n",
      "[[3098    7]\n",
      " [ 125  342]]\n"
     ]
    }
   ],
   "source": [
    "print(classification_report(y_test,predic_mlpc))\n",
    "print(confusion_matrix(y_test,predic_mlpc))"
   ]
  },
  {
   "cell_type": "code",
   "execution_count": 15,
   "id": "788a9080",
   "metadata": {},
   "outputs": [
    {
     "name": "stdout",
     "output_type": "stream",
     "text": [
      "0.9647256438969765 0.975363941769317 0.9630459126539753\n"
     ]
    }
   ],
   "source": [
    "accu_rfc=accuracy_score(y_test,predict_rfc)\n",
    "accu_svm=accuracy_score(y_test,predic_svm)\n",
    "accu_mlpc=accuracy_score(y_test,predic_mlpc)\n",
    "print(accu_rfc,accu_svm,accu_mlpc)"
   ]
  },
  {
   "cell_type": "code",
   "execution_count": 16,
   "id": "3a15334c",
   "metadata": {},
   "outputs": [],
   "source": [
    "import pickle\n",
    "with open('model pickle','wb')as f:             ### Creating a model pickle file\n",
    "    pickle.dump(predict_rfc,f)                    # wb is write in binary"
   ]
  },
  {
   "cell_type": "code",
   "execution_count": 28,
   "id": "f91f5604",
   "metadata": {},
   "outputs": [],
   "source": [
    "with open('model pickle','rb')as f:          # rb is read in binary\n",
    "    mp =pickle.load(f)"
   ]
  },
  {
   "cell_type": "code",
   "execution_count": 29,
   "id": "090338ed",
   "metadata": {},
   "outputs": [
    {
     "name": "stdout",
     "output_type": "stream",
     "text": [
      "              precision    recall  f1-score   support\n",
      "\n",
      "           0       0.96      1.00      0.98      3105\n",
      "           1       0.99      0.74      0.85       467\n",
      "\n",
      "    accuracy                           0.96      3572\n",
      "   macro avg       0.98      0.87      0.91      3572\n",
      "weighted avg       0.97      0.96      0.96      3572\n",
      "\n",
      "[[3101    4]\n",
      " [ 122  345]]\n"
     ]
    }
   ],
   "source": [
    "print(classification_report(y_test,mp))\n",
    "print(confusion_matrix(y_test,mp))"
   ]
  },
  {
   "cell_type": "code",
   "execution_count": 30,
   "id": "e59d2bfa",
   "metadata": {},
   "outputs": [],
   "source": [
    "import pickle\n",
    "pickle.dump(model, open(\"spam.pkl\", \"wb\"))      ## here model is for svc model testing"
   ]
  },
  {
   "cell_type": "code",
   "execution_count": 31,
   "id": "64601625",
   "metadata": {},
   "outputs": [
    {
     "data": {
      "text/plain": [
       "0.975363941769317"
      ]
     },
     "execution_count": 31,
     "metadata": {},
     "output_type": "execute_result"
    }
   ],
   "source": [
    "loaded_model = pickle.load(open(\"spam.pkl\", \"rb\"))\n",
    "loaded_model.predict(X_test)\n",
    "loaded_model.score(X_test,y_test)\n"
   ]
  },
  {
   "cell_type": "code",
   "execution_count": 43,
   "id": "276445cb",
   "metadata": {},
   "outputs": [
    {
     "name": "stdout",
     "output_type": "stream",
     "text": [
      "Enter new review...FreeMsg Hey there darling it's been 3 week's now and no word back! I'd like some fun you up for it still? Tb ok! XxX std chgs to send, ÃƒÂ¥Ã‚Â£1.50 to rcv\n",
      "NOT SPAM\n"
     ]
    }
   ],
   "source": [
    "import nltk  ## Preprocessing our text\n",
    "from nltk.corpus import stopwords ## removing all the stop words\n",
    "from nltk.stem.porter import PorterStemmer \n",
    "import re\n",
    "def new_review(new_review):\n",
    "    new_review = new_review\n",
    "    new_review = re.sub('[^a-zA-Z]', ' ', new_review)\n",
    "    new_review = new_review.lower()\n",
    "    new_review = new_review.split()\n",
    "    ps = PorterStemmer()\n",
    "    all_stopwords = stopwords.words('english')\n",
    "    all_stopwords.remove('not')\n",
    "    new_review = [ps.stem(word) for word in new_review if not word in   set(all_stopwords)]\n",
    "    new_review = ' '.join(new_review)\n",
    "    new_corpus = [new_review]\n",
    "    new_X_test = cv.transform(new_corpus).toarray()\n",
    "    new_y_pred = loaded_model.predict(new_X_test)\n",
    "    return new_y_pred\n",
    "new_review = new_review(str(input(\"Enter new review...\")))\n",
    "if new_review[0]==1:\n",
    "    print(\"SPAM\")\n",
    "else :\n",
    "    print(\"NOT SPAM\")"
   ]
  }
 ],
 "metadata": {
  "kernelspec": {
   "display_name": "Python 3",
   "language": "python",
   "name": "python3"
  },
  "language_info": {
   "codemirror_mode": {
    "name": "ipython",
    "version": 3
   },
   "file_extension": ".py",
   "mimetype": "text/x-python",
   "name": "python",
   "nbconvert_exporter": "python",
   "pygments_lexer": "ipython3",
   "version": "3.8.8"
  }
 },
 "nbformat": 4,
 "nbformat_minor": 5
}
